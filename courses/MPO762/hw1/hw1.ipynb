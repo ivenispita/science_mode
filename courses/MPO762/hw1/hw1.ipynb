{
 "cells": [
  {
   "cell_type": "markdown",
   "metadata": {},
   "source": [
    "# MPO 762 - Problem Set 1\n",
    "\n",
    "### Tiago Carrilho Bilo \n",
    "### C$\\#$11950866\n",
    "\n",
    "\n",
    "## 1 Finite Difference Derivation\n",
    "\n",
    "#### Derivation of 5th-order finite difference approximation to the first derivative of a function $u = u(x)$ using two different stencils. The derivarion will be performed by using the symbolic manipulation commands in matlab. \n",
    "\n",
    "\n",
    "Being $_{i}$ the spatial indexation we want derive a discretized derivative using the following data points:\n",
    "\n",
    "1) $u_{i-3}$, $u_{i-2}$, $u_{i-1}$, $u_{i}$, $u_{i+1}$, and $u_{i+2}$\n",
    "\n",
    "2) $u_{i-4}$, $u_{i-3}$, $u_{i-2}$, $u_{i-1}$, $u_{i}$, and $u_{i+1}$\n",
    "\n",
    "\n",
    "\n",
    "Notation: \n",
    "\n",
    "- $u_{x} = \\frac{d u}{d x} = $ first derivative\n",
    "\n",
    "    $u_{2x} = \\frac{d^{2} u}{d x^{2}} = $ second derivative\n",
    "\n",
    "    $u_{3x} = \\frac{d^{3} u}{d x^{3}} = $ third derivative\n",
    "\n",
    "    $u_{nx} = \\frac{d^{n} u}{d x^{n}} = $ n$^{th}$ derivative\n",
    "        \n",
    "    \n",
    "    \n",
    "    \n",
    "- $dx = \\Delta x = $ grid spacing\n",
    "    \n",
    "    \n",
    "    \n",
    "    \n",
    "- $x1p = x_{i+1} = x_{i} + \\Delta x$ = specific grid cell indexation\n",
    "\n",
    "    $x1m = x_{i+1} = x_{i} - \\Delta x$\n",
    "\n",
    "    $x2p = x_{i+1} = x_{i} + (2 \\times \\Delta x)$\n",
    "\n",
    "    $x2m = x_{i+1} = x_{i} - (2 \\times \\Delta x)$     \n",
    "\n"
   ]
  },
  {
   "cell_type": "markdown",
   "metadata": {},
   "source": [
    "\n",
    "\n"
   ]
  },
  {
   "cell_type": "markdown",
   "metadata": {},
   "source": [
    "\n",
    "\n"
   ]
  },
  {
   "cell_type": "markdown",
   "metadata": {},
   "source": [
    "First of all lets define some symbolic variables and our discretized axis: "
   ]
  },
  {
   "cell_type": "code",
   "execution_count": 1,
   "metadata": {
    "collapsed": false
   },
   "outputs": [
    {
     "name": "stderr",
     "output_type": "stream",
     "text": [
      "\u001b[0;31mInvalid variable name \"matrix(0, 1, [])\" in ASSIGNIN.\n",
      "\u001b[0m"
     ]
    }
   ],
   "source": [
    "% Clear memory\n",
    "clear all\n",
    "\n",
    "% Defining the symbolic variables\n",
    "syms x dx xi u ux u2x u3x u4x u5x u6x real "
   ]
  },
  {
   "cell_type": "code",
   "execution_count": 2,
   "metadata": {
    "collapsed": false
   },
   "outputs": [
    {
     "name": "stdout",
     "output_type": "stream",
     "text": [
      "[output]\n",
      "Discretized x-axis\n",
      " \n",
      "X =\n",
      " \n",
      "[ xi - 4*dx, xi - 3*dx, xi - 2*dx, xi - dx, xi, dx + xi, 2*dx + xi, 3*dx + xi, 4*dx + xi]\n"
     ]
    }
   ],
   "source": [
    "u_x = sym('u(x)');\n",
    "\n",
    "disp('[output]')\n",
    "disp(['Discretized x-axis'])\n",
    "X = [xi-4*dx, xi-3*dx, xi-2*dx, xi-dx, xi, xi+dx, xi+2*dx, xi+3*dx, xi+4*dx]"
   ]
  },
  {
   "cell_type": "markdown",
   "metadata": {},
   "source": [
    "\n"
   ]
  },
  {
   "cell_type": "markdown",
   "metadata": {},
   "source": [
    "Assuming the function $u(x)$ being continuous to the 6th-order derivative and the discretized x-axis equally spaced, we can approximate $u(x)$ by its Taylor series expansion around $x_{i}$: "
   ]
  },
  {
   "cell_type": "code",
   "execution_count": 3,
   "metadata": {
    "collapsed": false
   },
   "outputs": [
    {
     "name": "stdout",
     "output_type": "stream",
     "text": [
      "[output]\n",
      "Taylor series expansion of u(x) around xi:\n",
      "u(xi) + ux*(x - xi) + (u2x*(x - xi)^2)/2 + (u3x*(x - xi)^3)/6 + (u4x*(x - xi)^4)/24 + (u5x*(x - xi)^5)/120 + (u6x*(x - xi)^6)/720\n"
     ]
    }
   ],
   "source": [
    "% Computing the symbolic Taylor series expansion around xi, the truncation error will be of order 6 \n",
    "Taylor = taylor(u_x,x,'ExpansionPoint',xi,'Order',7);    \n",
    "\n",
    "% Replacing the original symbolic derivatives for a more user-friendly notation defined above\n",
    "Taylor = subs(Taylor,'D(u)(xi)',ux);\n",
    "Taylor = subs(Taylor,'D(D(u))(xi)',u2x);\n",
    "Taylor = subs(Taylor,'D(D(D(u)))(xi)',u3x);\n",
    "Taylor = subs(Taylor,'D(D(D(D(u))))(xi)',u4x);\n",
    "Taylor = subs(Taylor,'D(D(D(D(D(u)))))(xi)',u5x);\n",
    "Taylor = subs(Taylor,'D(D(D(D(D(D(u))))))(xi)',u6x);\n",
    "\n",
    "disp('[output]')\n",
    "disp('Taylor series expansion of u(x) around xi:')\n",
    "disp(Taylor)"
   ]
  },
  {
   "cell_type": "markdown",
   "metadata": {},
   "source": [
    "\n"
   ]
  },
  {
   "cell_type": "markdown",
   "metadata": {},
   "source": [
    "From the expression above we can: \n",
    "\n",
    "##### 1) obtain the value of u(x) at any point around to $x_{i}$:\n"
   ]
  },
  {
   "cell_type": "code",
   "execution_count": 4,
   "metadata": {
    "collapsed": false
   },
   "outputs": [
    {
     "name": "stdout",
     "output_type": "stream",
     "text": [
      "[output]\n",
      "Example: u at xi + 2dx\n",
      "(4*u6x*dx^6)/45 + (4*u5x*dx^5)/15 + (2*u4x*dx^4)/3 + (4*u3x*dx^3)/3 + 2*u2x*dx^2 + 2*ux*dx + u(xi)\n"
     ]
    }
   ],
   "source": [
    "% 1) Replacing x by the values around xi especified by the discretized x-axis (X)\n",
    "u_x4m = subs(Taylor,'x',X(1));\n",
    "u_x3m = subs(Taylor,'x',X(2));\n",
    "u_x2m = subs(Taylor,'x',X(3));\n",
    "u_x1m = subs(Taylor,'x',X(4));\n",
    "u_x1p = subs(Taylor,'x',X(6));\n",
    "u_x2p = subs(Taylor,'x',X(7));\n",
    "u_x3p = subs(Taylor,'x',X(8));\n",
    "u_x4p = subs(Taylor,'x',X(9));\n",
    "\n",
    "\n",
    "disp('[output]')\n",
    "disp('Example: u at xi + 2dx')\n",
    "disp(u_x2p)\n"
   ]
  },
  {
   "cell_type": "markdown",
   "metadata": {},
   "source": [
    "##### 2) find the expression for $u_{x}$ using the desired stencils:"
   ]
  },
  {
   "cell_type": "code",
   "execution_count": 5,
   "metadata": {
    "collapsed": false
   },
   "outputs": [
    {
     "name": "stdout",
     "output_type": "stream",
     "text": [
      "[output]\n",
      "Coefficients A\n",
      "[ a1, a2, a3, a4, a5]\n"
     ]
    }
   ],
   "source": [
    "% 2) Finding the expression for ux\n",
    "\n",
    "% Defining a coefficients vector\n",
    "A = sym('a', [1 5]); \n",
    "\n",
    "disp('[output]')\n",
    "disp('Coefficients A')\n",
    "disp(A)\n",
    "\n",
    "% Coefficients assignment for the different stencils\n",
    "S1 = [u_x3m,u_x2m,u_x1m,u_x1p,u_x2p]; S1 = A.*S1;\n",
    "S2 = [u_x4m,u_x3m,u_x2m,u_x1m,u_x1p]; S2 = A.*S2;\n",
    "\n",
    "\n",
    "% Summing up the expressions for the different stencils\n",
    "S1 = sum(S1);\n",
    "S2 = sum(S2); \n"
   ]
  },
  {
   "cell_type": "markdown",
   "metadata": {},
   "source": [
    "As we can see, the sum of the Taylor series for each stencil allow us to combine the coefficents in order to writte expressions of the form: \n",
    "\n",
    "Stencil 1: $a_{1} u_{i-3} + a_{2} u_{i-2} + a_{3} u_{i-1} + a_{4} u_{i+1} + a_{5} u_{i+2} = a_{0} u_{i} + B_{1} u_{x} \\Delta X + B_{2} u_{2x} \\Delta X^{2} + B_{3} u_{3x} \\Delta X^{3} + B_{4} u_{4x} \\Delta X^{4} + B_{5} u_{5x} \\Delta X^{5} + B_{6} u_{6x} \\Delta X^{6} + ... $\n",
    "\n",
    "\n",
    "Stencil 2: $a_{1} u_{i-4} + a_{2} u_{i-3} + a_{3} u_{i-2} + a_{4} u_{i-1} + a_{5} u_{i+1} = a_{0} u_{i} + B_{1} u_{x} \\Delta X + B_{2} u_{2x} \\Delta X^{2} + B_{3} u_{3x} \\Delta X^{3} + B_{4} u_{4x} \\Delta X^{4} + B_{5} u_{5x} \\Delta X^{5} + B_{6} u_{6x} \\Delta X^{6} + ... $\n",
    "\n",
    "\n",
    "where Bs are real coefficients and $a_{0} = a_{1} + a_{2} + a_{3} + a_{4} + a_{5}$.\n",
    "\n"
   ]
  },
  {
   "cell_type": "code",
   "execution_count": 6,
   "metadata": {
    "collapsed": false
   },
   "outputs": [
    {
     "name": "stdout",
     "output_type": "stream",
     "text": [
      "[output]\n",
      "Stencil 1:\n",
      " \n",
      "B1 =\n",
      " \n",
      "a4 - 2*a2 - a3 - 3*a1 + 2*a5\n",
      " \n",
      " \n",
      "B2 =\n",
      " \n",
      "(9*a1)/2 + 2*a2 + a3/2 + a4/2 + 2*a5\n",
      " \n",
      " \n",
      "B3 =\n",
      " \n",
      "a4/6 - (4*a2)/3 - a3/6 - (9*a1)/2 + (4*a5)/3\n",
      " \n",
      " \n",
      "B4 =\n",
      " \n",
      "(27*a1)/8 + (2*a2)/3 + a3/24 + a4/24 + (2*a5)/3\n",
      " \n",
      " \n",
      "B5 =\n",
      " \n",
      "a4/120 - (4*a2)/15 - a3/120 - (81*a1)/40 + (4*a5)/15\n",
      " \n",
      " \n",
      "B6 =\n",
      " \n",
      "(81*a1)/80 + (4*a2)/45 + a3/720 + a4/720 + (4*a5)/45\n"
     ]
    }
   ],
   "source": [
    "% Stencil 1:\n",
    "disp('[output]')\n",
    "disp('Stencil 1:')\n",
    "\n",
    "\n",
    "% note : the following scheme allow us to get and display the coefficients B\n",
    "\n",
    "C = coeffs(S1,ux);\n",
    "B1 = simplify(C(end)/(dx))\n",
    "\n",
    "C = coeffs(S1,u2x);\n",
    "B2 = simplify(C(end)/(dx^2))\n",
    "\n",
    "C = coeffs(S1,u3x);\n",
    "B3 = simplify(C(end)/(dx^3))\n",
    "\n",
    "C = coeffs(S1,u4x);\n",
    "B4 = simplify(C(end)/(dx^4))\n",
    "\n",
    "C = coeffs(S1,u5x);\n",
    "B5 = simplify(C(end)/(dx^5))\n",
    "\n",
    "C = coeffs(S1,u6x);\n",
    "B6 = simplify(C(end)/(dx^6))\n",
    "\n",
    "BS1 = [B1,B2,B3,B4,B5];"
   ]
  },
  {
   "cell_type": "code",
   "execution_count": 7,
   "metadata": {
    "collapsed": false
   },
   "outputs": [
    {
     "name": "stdout",
     "output_type": "stream",
     "text": [
      "[output]\n",
      "Stencil 2:\n",
      " \n",
      "B1 =\n",
      " \n",
      "a5 - 3*a2 - 2*a3 - a4 - 4*a1\n",
      " \n",
      " \n",
      "B2 =\n",
      " \n",
      "8*a1 + (9*a2)/2 + 2*a3 + a4/2 + a5/2\n",
      " \n",
      " \n",
      "B3 =\n",
      " \n",
      "a5/6 - (9*a2)/2 - (4*a3)/3 - a4/6 - (32*a1)/3\n",
      " \n",
      " \n",
      "B4 =\n",
      " \n",
      "(32*a1)/3 + (27*a2)/8 + (2*a3)/3 + a4/24 + a5/24\n",
      " \n",
      " \n",
      "B5 =\n",
      " \n",
      "a5/120 - (81*a2)/40 - (4*a3)/15 - a4/120 - (128*a1)/15\n",
      " \n",
      " \n",
      "B6 =\n",
      " \n",
      "(256*a1)/45 + (81*a2)/80 + (4*a3)/45 + a4/720 + a5/720\n"
     ]
    }
   ],
   "source": [
    "% Stencil 2:\n",
    "disp('[output]')\n",
    "disp('Stencil 2:')\n",
    "\n",
    "C = coeffs(S2,ux);\n",
    "B1 = simplify(C(end)/(dx))\n",
    "\n",
    "C = coeffs(S2,u2x);\n",
    "B2 = simplify(C(end)/(dx^2))\n",
    "\n",
    "C = coeffs(S2,u3x);\n",
    "B3 = simplify(C(end)/(dx^3))\n",
    "\n",
    "C = coeffs(S2,u4x);\n",
    "B4 = simplify(C(end)/(dx^4))\n",
    "\n",
    "C = coeffs(S2,u5x);\n",
    "B5 = simplify(C(end)/(dx^5))\n",
    "\n",
    "C = coeffs(S2,u6x);\n",
    "B6 = simplify(C(end)/(dx^6))\n",
    "\n",
    "BS2 = [B1,B2,B3,B4,B5];"
   ]
  },
  {
   "cell_type": "markdown",
   "metadata": {},
   "source": [
    "\n"
   ]
  },
  {
   "cell_type": "markdown",
   "metadata": {},
   "source": [
    "Therefore, in order to get the 5th finete difference approximations of the first derivatives we can obtain the coefficients A by seting $B_{2}, B_{3}, B_{4}, B_{5} = 0$ and $B_{1} = 1$. \n",
    "\n",
    "Then, we solve the linear system 5x5 of the type $M \\times A = B$:  \n",
    "\n",
    "$$\\begin{bmatrix}\n",
    "M_{l1} & M_{l2} & M_{l3} & M_{l4} & M_{l5} \\\\\n",
    "M_{21} & M_{22} & M_{23} & M_{24} & M_{25} \\\\\n",
    "M_{31} & M_{32} & M_{33} & M_{34} & M_{35} \\\\\n",
    "M_{41} & M_{42} & M_{43} & M_{44} & M_{45} \\\\\n",
    "M_{51} & M_{52} & M_{53} & M_{54} & M_{55}\n",
    "\\end{bmatrix}  \\times \n",
    "\\begin{bmatrix}\n",
    "a_{l} \\\\\n",
    "a_{2} \\\\\n",
    "a_{3} \\\\\n",
    "a_{4} \\\\\n",
    "a_{5}\n",
    "\\end{bmatrix} \n",
    "=\n",
    "\\begin{bmatrix}\n",
    "B_{1} \\\\\n",
    "B_{2} \\\\\n",
    "B_{3} \\\\\n",
    "B_{4} \\\\\n",
    "B_{5} \\\\\n",
    "\\end{bmatrix}\n",
    "$$\n",
    "\n",
    "\n",
    "\n",
    "\n"
   ]
  },
  {
   "cell_type": "code",
   "execution_count": 8,
   "metadata": {
    "collapsed": false
   },
   "outputs": [
    {
     "name": "stdout",
     "output_type": "stream",
     "text": [
      "[output]\n",
      "Linear System for Stencil 1\n",
      " \n",
      "M =\n",
      " \n",
      "[     -3,    -2,     -1,     1,    2]\n",
      "[    9/2,     2,    1/2,   1/2,    2]\n",
      "[   -9/2,  -4/3,   -1/6,   1/6,  4/3]\n",
      "[   27/8,   2/3,   1/24,  1/24,  2/3]\n",
      "[ -81/40, -4/15, -1/120, 1/120, 4/15]\n",
      " \n",
      " \n",
      "B =\n",
      " \n",
      " 1\n",
      " 0\n",
      " 0\n",
      " 0\n",
      " 0\n",
      " \n",
      "Solutions of A\n",
      " \n",
      "AS1 =\n",
      " \n",
      " -1/30\n",
      "   1/4\n",
      "    -1\n",
      "   1/2\n",
      " -1/20\n",
      " \n",
      "Coefficient a0\n",
      " \n",
      "a0_s1 =\n",
      " \n",
      "-1/3\n"
     ]
    }
   ],
   "source": [
    "% Stencil 1\n",
    "\n",
    "% Display the system in a matrix form\n",
    "disp('[output]')\n",
    "disp('Linear System for Stencil 1')\n",
    "[M,B] = equationsToMatrix([BS1(1)==1, BS1(2)==0, BS1(3)==0, BS1(4)==0,BS1(5)==0], [A(1), A(2), A(3), A(4), A(5)])\n",
    "\n",
    "% Solving the system\n",
    "disp('Solutions of A')\n",
    "AS1 = linsolve(M,B)\n",
    "\n",
    "disp('Coefficient a0')\n",
    "a0_s1 = sum(AS1)"
   ]
  },
  {
   "cell_type": "code",
   "execution_count": 9,
   "metadata": {
    "collapsed": false
   },
   "outputs": [
    {
     "name": "stdout",
     "output_type": "stream",
     "text": [
      "[output]\n",
      "Linear System for Stencil 1\n",
      " \n",
      "M =\n",
      " \n",
      "[      -4,     -3,    -2,     -1,     1]\n",
      "[       8,    9/2,     2,    1/2,   1/2]\n",
      "[   -32/3,   -9/2,  -4/3,   -1/6,   1/6]\n",
      "[    32/3,   27/8,   2/3,   1/24,  1/24]\n",
      "[ -128/15, -81/40, -4/15, -1/120, 1/120]\n",
      " \n",
      " \n",
      "B =\n",
      " \n",
      " 1\n",
      " 0\n",
      " 0\n",
      " 0\n",
      " 0\n",
      " \n",
      "Solutions of A\n",
      " \n",
      "AS2 =\n",
      " \n",
      " 1/20\n",
      " -1/3\n",
      "    1\n",
      "   -2\n",
      "  1/5\n",
      " \n",
      "Coefficient a0\n",
      " \n",
      "a0_s2 =\n",
      " \n",
      "-13/12\n"
     ]
    }
   ],
   "source": [
    "% Stencil 2\n",
    "\n",
    "% Display the system in a matrix form\n",
    "disp('[output]')\n",
    "disp('Linear System for Stencil 1')\n",
    "[M,B] = equationsToMatrix([BS2(1)==1, BS2(2)==0, BS2(3)==0, BS2(4)==0,BS2(5)==0], [A(1), A(2), A(3), A(4), A(5)])\n",
    "\n",
    "% Solving the system\n",
    "disp('Solutions of A')\n",
    "AS2 = linsolve(M,B)\n",
    "\n",
    "disp('Coefficient a0')\n",
    "a0_s2 = sum(AS2)"
   ]
  },
  {
   "cell_type": "markdown",
   "metadata": {},
   "source": [
    "\n",
    "\n"
   ]
  },
  {
   "cell_type": "markdown",
   "metadata": {},
   "source": [
    "\n",
    "\n"
   ]
  },
  {
   "cell_type": "markdown",
   "metadata": {},
   "source": [
    "Now we can rewritte the Taylor series expantions as: \n",
    "\n",
    "Stencil 1: $u_{x} = \\frac{a_{1} u_{i-3} + a_{2} u_{i-2} + a_{3} u_{i-1} + a_{4} u_{i+1} + a_{5} u_{i+2} - a_{0} u_{i}}{\\Delta x} - B_{6} u_{6x} \\Delta X^{5} + ...$\n",
    "\n",
    "\n",
    "Stencil 2: $u_{x} = \\frac{a_{1} u_{i-4} + a_{2} u_{i-3} + a_{3} u_{i-2} + a_{4} u_{i-1} + a_{5} u_{i+1} - a_{0} u_{i}}{\\Delta X} - B_{6} u_{6x} \\Delta X^{5} + ... $\n",
    "\n",
    "\n",
    "Replacing the values of A in both expressions and multipling them for 60 we get: \n",
    "\n",
    "Stencil 1: $u_{x} = \\frac{- 2 u_{i-3} + 15 u_{i-2} - 60 u_{i-1} + 20 u_{i} + 30 u_{i+1} - 3 u_{i+2}}{60 \\Delta x} - \\frac{1}{60} \\frac{u_{6x} \\Delta X^{5}}{60} + ...$\n",
    "\n",
    "Stencil 2: $u_{x} = \\frac{3 u_{i-4} - 20 u_{i-3} + 60 u_{i-2} - 120 u_{i-1} + 65 u_{i} + 12 u_{i+1}}{60 \\Delta X} + \\frac{1}{30} \\frac{u_{6x} \\Delta X^{5}}{60} + ... $\n",
    "\n",
    "\n",
    "### Therefore, since $\\frac{1}{60} = \\frac{12}{6!}$ we get: \n",
    "\n",
    "###  Stencil 1: $u_{x} = \\frac{- 2 u_{i-3} + 15 u_{i-2} - 60 u_{i-1} + 20 u_{i} + 30 u_{i+1} - 3 u_{i+2}}{60 \\Delta x} - \\frac{12}{60} \\frac{u_{6x} \\Delta X^{5}}{6!} + ...$\n",
    "\n",
    "### Stencil 2: $u_{x} = \\frac{3 u_{i-4} - 20 u_{i-3} + 60 u_{i-2} - 120 u_{i-1} + 65 u_{i} + 12 u_{i+1}}{60 \\Delta X} + \\frac{24}{60} \\frac{u_{6x} \\Delta X^{5}}{6!} + ... $\n"
   ]
  },
  {
   "cell_type": "markdown",
   "metadata": {},
   "source": [
    "\n",
    "\n"
   ]
  },
  {
   "cell_type": "markdown",
   "metadata": {},
   "source": [
    "\n",
    "\n"
   ]
  },
  {
   "cell_type": "markdown",
   "metadata": {},
   "source": [
    "\n",
    "\n"
   ]
  },
  {
   "cell_type": "markdown",
   "metadata": {},
   "source": [
    "\n",
    "\n"
   ]
  },
  {
   "cell_type": "markdown",
   "metadata": {},
   "source": [
    "\n",
    "\n"
   ]
  },
  {
   "cell_type": "markdown",
   "metadata": {},
   "source": [
    "\n",
    "\n"
   ]
  },
  {
   "cell_type": "markdown",
   "metadata": {},
   "source": [
    "## 2 Programming discretization of a grid\n",
    "\n",
    "\n",
    "The discretization of a 1-D grid is performed by using the following function:\n",
    "\n",
    "\n",
    "```Octave\n",
    "function [x,xe,dx] = FDGrid(xmin,xmax,N)\n",
    "    %\n",
    "    % Returns the coordinates of the cell (x), grid cell edges (xe), and the spacing (dx) \n",
    "    % of an equally spaced 1-D numerical grid.  \n",
    "    % \n",
    "    % \n",
    "    % Input:  \n",
    "    %\txmin and xmax: interval limits of the grid \n",
    "    %\t\t \n",
    "    %\tN: Number of grid cells \n",
    "    %   \n",
    "    % Example: \n",
    "    %\n",
    "    %\t\t\t>> [x,xe,dx] = FDGrid(0,10,5)\n",
    "    %\t\t\tx = \n",
    "    %\t\t\t\t[1,3,5,7,9]\n",
    "    % \t\t\t\n",
    "    %\t\t\txe = \n",
    "    %\t\t\t\t[0,2,4,6,8,10]\n",
    "    %\n",
    "    %\t  \n",
    "    %\t\t\tdx = \t\t\t\n",
    "    % \t\t\t\t2\n",
    "    %\n",
    "    %\t\n",
    "    %\tGrid: \n",
    "    %\t\n",
    "    %   0       1     2     3      4      5     6     7     8      9    10\n",
    "    %\t|       .     |     .      |      .     |     .     |      .     |\n",
    "    %  xe1     x1    xe2    x2    xe3    x3    xe4   x4    xe5     x5    xe6         \n",
    "    %\n",
    "    % \n",
    "    % Author: Tiago Bilo\n",
    "    % CFD - Fall 2016 \n",
    "    % Problem set 1: \n",
    "    % 2. Programing discretization of a grid \n",
    "\n",
    "    % Grid spacing\n",
    "    dx = (xmax-xmin)/N;\n",
    "\n",
    "\t% Grid cell coordinates\n",
    "    x = [xmin+(dx/2.0):dx:xmax-(dx/2.0)];\n",
    "\n",
    "\t% Coordinates of the grid cell edges \n",
    "    xe = [xmin:dx:xmax];\n",
    "```\n"
   ]
  },
  {
   "cell_type": "code",
   "execution_count": 11,
   "metadata": {
    "collapsed": false
   },
   "outputs": [
    {
     "name": "stdout",
     "output_type": "stream",
     "text": [
      "[outputs]\n",
      "Variables dimensions\n",
      "  Name      Size              Bytes  Class     Attributes\n",
      "\n",
      "  dx        1x1                   8  double              \n",
      "  x         1x1000             8000  double              \n",
      "  xe        1x1001             8008  double              \n",
      "\n",
      "Grid spacing dx\n",
      "    0.0020\n",
      "\n",
      "Grid interval\n",
      "[-1,1]\n"
     ]
    }
   ],
   "source": [
    "% Clear the memory\n",
    "clear all\n",
    "\n",
    "% Grid discretization\n",
    "[x,xe,dx] = FDGrid(-1,1,1000);\n",
    "\n",
    "disp('[outputs]')\n",
    "disp('Variables dimensions')\n",
    "whos \n",
    "\n",
    "disp('Grid spacing dx')\n",
    "disp(dx)\n",
    "\n",
    "disp('Grid interval')\n",
    "disp(['[',num2str(min(xe)),',',num2str(max(xe)),']'])\n"
   ]
  },
  {
   "cell_type": "markdown",
   "metadata": {},
   "source": [
    "\n"
   ]
  },
  {
   "cell_type": "markdown",
   "metadata": {},
   "source": [
    "##### Computing the following periodic functions at xe\n",
    "\n",
    "$$ u(x) = tanh\\{\\alpha[cos(\\pi x) + \\frac{1}{2}])\\} + e^{-cos^{2}(\\pi x)} $$\n",
    "\n",
    "and \n",
    "\n",
    "$$ u_{x}(x) = \\pi sin(\\pi x) \\{\\alpha[tanh^{2}(\\alpha cos(\\pi x) + \\frac{\\alpha}{2}) - 1] + 2cos(\\pi x) e^{-cos^{2}(\\pi x)}\\} $$"
   ]
  },
  {
   "cell_type": "code",
   "execution_count": 12,
   "metadata": {
    "collapsed": false
   },
   "outputs": [
    {
     "data": {
      "image/png": "[encoded data removed]",
      "text/plain": [
       "<IPython.core.display.Image object>"
      ]
     },
     "metadata": {},
     "output_type": "display_data"
    }
   ],
   "source": [
    "% Periodic functions for a = 4\n",
    "a = 4.0; \n",
    "cosine = cos(pi.*xe);\n",
    "sine = sin(pi.*xe);\n",
    "expn = exp(-(cosine.^2.0));\n",
    "\n",
    "u = tanh(a.*(cosine + 0.5)) + expn; \n",
    "ux = pi.*sine.*(a.*((tanh(a.*(cosine+0.5)).^2.0) - 1) + 2.0.*cosine.*expn); \n",
    "\n",
    "\n",
    "% Plotting the periodic functions\n",
    "figure(1);\n",
    "h = subplot(1,2,1); \n",
    "plot(xe,u)\n",
    "xlabel('Grid edges')\n",
    "ylabel('u(x)')\n",
    "ylim([-1 2])\n",
    "\n",
    "\n",
    "subplot(1,2,2)\n",
    "plot(xe,ux)\n",
    "xlabel('Grid edges')\n",
    "ylabel('u_x (x)')\n",
    "\n"
   ]
  },
  {
   "cell_type": "markdown",
   "metadata": {},
   "source": [
    "Figure 1. Plots of the function u(x) (left panel) and its derivative (right panel)"
   ]
  },
  {
   "cell_type": "markdown",
   "metadata": {},
   "source": [
    "\n",
    "\n"
   ]
  },
  {
   "cell_type": "markdown",
   "metadata": {},
   "source": [
    "\n",
    "\n"
   ]
  },
  {
   "cell_type": "markdown",
   "metadata": {},
   "source": [
    "\n",
    "\n"
   ]
  },
  {
   "cell_type": "markdown",
   "metadata": {},
   "source": [
    "\n",
    "\n"
   ]
  },
  {
   "cell_type": "markdown",
   "metadata": {},
   "source": [
    "\n",
    "\n",
    "\n",
    "\n"
   ]
  },
  {
   "cell_type": "markdown",
   "metadata": {},
   "source": [
    "\n",
    "\n"
   ]
  },
  {
   "cell_type": "markdown",
   "metadata": {},
   "source": [
    "## 3 Programing Finite Diference Calculations\n",
    "\n",
    "Assuming a periodic function $u(x)$ of the form: \n",
    "\n",
    "$$u(x) = tanh\\{\\alpha[cos(\\pi x) + \\frac{1}{2}])\\} + e^{-cos^{2}(\\pi x)}$$\n",
    "\n",
    "\n",
    "Lets implement a numerical differentiation of the first derivative $u_{x}$:\n",
    "\n",
    "$$u_{x}(x) = \\pi sin(\\pi x) \\{\\alpha[tanh^{2}(\\alpha cos(\\pi x) + \\frac{\\alpha}{2}) - 1] + 2cos(\\pi x) e^{-cos^{2}(\\pi x)}\\}$$\n",
    "\n",
    "\n",
    "Using a 5th-order finite difference approximation: \n",
    "\n",
    "i. e., \n",
    "\n",
    "$$u_{x}(x) = \\frac{- 2 u_{i-3} + 15 u_{i-2} - 60 u_{i-1} + 20 u_{i} + 30 u_{i+1} - 3 u_{i+2}}{60 \\Delta x} - \\frac{12}{60} \\frac{u_{6x} \\Delta X^{5}}{6!} + ...$$\n",
    "\n",
    "\n"
   ]
  },
  {
   "cell_type": "code",
   "execution_count": 13,
   "metadata": {
    "collapsed": false
   },
   "outputs": [
    {
     "name": "stdout",
     "output_type": "stream",
     "text": [
      "[output]\n",
      "N = 10 grid cells\n",
      "dx = 0.2\n",
      "Maximum error = 3.9094\n",
      "RMS error = 1.0669\n",
      " \n",
      " \n",
      "[output]\n",
      "N = 20 grid cells\n",
      "dx = 0.1\n",
      "Maximum error = 1.0235\n",
      "RMS error = 0.16867\n",
      " \n",
      " \n",
      "[output]\n",
      "N = 40 grid cells\n",
      "dx = 0.05\n",
      "Maximum error = 0.24355\n",
      "RMS error = 0.022755\n",
      " \n",
      " \n",
      "[output]\n",
      "N = 80 grid cells\n",
      "dx = 0.025\n",
      "Maximum error = 0.013575\n",
      "RMS error = 0.00084676\n",
      " \n",
      " \n",
      "[output]\n",
      "N = 100 grid cells\n",
      "dx = 0.02\n",
      "Maximum error = 0.0051885\n",
      "RMS error = 0.00027454\n",
      " \n",
      " \n",
      "[output]\n",
      "N = 200 grid cells\n",
      "dx = 0.01\n",
      "Maximum error = 0.0016759\n",
      "RMS error = 1.7999e-05\n",
      " \n",
      " \n",
      "[output]\n",
      "N = 400 grid cells\n",
      "dx = 0.005\n",
      "Maximum error = 0.00083769\n",
      "RMS error = 4.1911e-06\n",
      " \n",
      " \n",
      "[output]\n",
      "N = 800 grid cells\n",
      "dx = 0.0025\n",
      "Maximum error = 0.0004188\n",
      "RMS error = 1.047e-06\n",
      " \n",
      " \n",
      "[output]\n",
      "N = 1600 grid cells\n",
      "dx = 0.00125\n",
      "Maximum error = 0.00020939\n",
      "RMS error = 2.6174e-07\n",
      " \n",
      " \n",
      "[output]\n",
      "N = 3200 grid cells\n",
      "dx = 0.000625\n",
      "Maximum error = 0.0001047\n",
      "RMS error = 6.5435e-08\n"
     ]
    }
   ],
   "source": [
    "% Clear the memory \n",
    "clear all\n",
    "\n",
    "% Defining the domain\n",
    "xmin = -1.0; \n",
    "xmax = 1.0; \n",
    "\n",
    "% Different number of grid cells \n",
    "N = [10,20,40,80,100,200,400,800,1600,3200];\n",
    "\n",
    "\n",
    "% Function params \n",
    "a = 4.0; \n",
    "\n",
    "for it = 1:length(N)\n",
    "\n",
    "    % Discretized grid\n",
    "    [x,xe,dx] = FDGrid(xmin,xmax,N(it));\n",
    "\n",
    "    % Number of edges: length(xe) = N+1\n",
    "    Ne = N(it)+1;\n",
    "\n",
    "    % Function \n",
    "    cosine = cos(pi.*xe);\n",
    "    sine = sin(pi.*xe);\n",
    "    expn = exp(-(cosine.^2.0));    \n",
    "    \n",
    "        \n",
    "    u = tanh(a.*(cosine + 0.5)) + expn; \n",
    "    \n",
    "    % Exact derivative\n",
    "    ux = pi.*sine.*(a.*((tanh(a.*(cosine+0.5)).^2.0) - 1) + 2.0.*cosine.*expn);\n",
    "\n",
    "\n",
    "    %% Numerical derivative using our 5th-order finite difference approximation\n",
    "    % Middle of the domain\n",
    "    ux_n = zeros(1,Ne); \n",
    "    ux_n(4:Ne-2) = -2*u(1:Ne-5)+15*u(2:Ne-4)-60*u(3:Ne-3)+20*u(4:Ne-2)+30*u(5:Ne-1)-3*u(6:Ne);\n",
    "\n",
    "\n",
    "\n",
    "    % Close to the boundaries (Periodic boundary condition)\n",
    "    % \n",
    "    % Periodic boundary condition: first and last values of the function are the \"same\"\n",
    "    %\n",
    "    % \"eastern\" boundary: i = Ne-1 and i = Ne\n",
    "    ux_n(Ne-1) = -2*u(Ne-4)+15*u(Ne-3)-60*u(Ne-2)+20*u(Ne-1)+30*u(Ne)-3*u(2);\n",
    "    ux_n(Ne) = -2*u(Ne-3)+15*u(Ne-2)-60*u(Ne-1)+20*u(Ne)+30*u(2)-3*u(3);\n",
    "\n",
    "    % \"western\" boundary: i = 3, i = 2 and i = 1\n",
    "    ux_n(3) = -2*u(Ne-1)+15*u(1)-60*u(2)+20*u(3)+30*u(4)-3*u(5);\n",
    "    ux_n(2) = -2*u(Ne-2)+15*u(Ne-1)-60*u(1)+20*u(2)+30*u(3)-3*u(4);    \n",
    "    ux_n(1) = -2*u(Ne-3)+15*u(Ne-2)-60*u(Ne-1)+20*u(1)+30*u(2)-3*u(3); \n",
    "\n",
    "    ux_n = ux_n./(60.0*dx);\n",
    "\n",
    "\n",
    "    % Keep the different dx\n",
    "    Dx(it) = dx;\n",
    "\n",
    "    % Error Measurements (epsilon)\n",
    "    err = ux_n-ux;                     % error in derivative at the edges\n",
    "    err_max(it) = max(abs(err));       % maximum error\n",
    "    err_rms(it)=sqrt(sum(err.^2)).*dx; % rms error\n",
    "\n",
    "    disp(' ')\n",
    "    disp('[output]')\n",
    "    disp(['N = ',num2str(N(it)),' grid cells'])\n",
    "    disp(['dx = ',num2str(Dx(it))])    \n",
    "    disp(['Maximum error = ', num2str(err_max(it))]) \n",
    "    disp(['RMS error = ', num2str(err_rms(it))])\n",
    "    disp(' ')    \n",
    "    \n",
    "end \n",
    "\n"
   ]
  },
  {
   "cell_type": "markdown",
   "metadata": {},
   "source": [
    "\n",
    "\n"
   ]
  },
  {
   "cell_type": "markdown",
   "metadata": {
    "collapsed": true
   },
   "source": [
    "Just looking at the numerical differentiation errors ($|\\epsilon|$) whe can verify that its magnitude decreases as $\\Delta x$ increase as the theory predicts. I. e., the RMS error is $\\sim O(\\Delta x^{5})$. \n",
    "\n",
    "#### Convergence diagrams\n"
   ]
  },
  {
   "cell_type": "code",
   "execution_count": 14,
   "metadata": {
    "collapsed": false
   },
   "outputs": [
    {
     "name": "stdout",
     "output_type": "stream",
     "text": [
      " added to session magics.\n",
      "\n"
     ]
    },
    {
     "data": {
      "image/png": "[encoded data removed]",
      "text/plain": [
       "<IPython.core.display.Image object>"
      ]
     },
     "metadata": {},
     "output_type": "display_data"
    }
   ],
   "source": [
    "%%% Plotting the convergence digrams\n",
    "%% Epsilon x N\n",
    "figure(2)\n",
    "subplot(1,2,1)\n",
    "loglog(N,err_max,'k-*',N,err_rms,'r-*');\n",
    "\n",
    "axis([N(1) N(end) 1.e-8 10]);\n",
    "xlabel('N','FontSize',12); \n",
    "ylabel('$|\\epsilon\\|$','Interpret','latex','FontSize',12);\n",
    "\n",
    "grid 'on'\n",
    "legend('max(e)','rms(e)','Location','Best')\n",
    "\n",
    "%% Epsilon x Dx\n",
    "subplot(1,2,2)\n",
    "loglog(Dx,err_max,'k-*',Dx,err_rms,'r-*');\n",
    "\n",
    "axis([Dx(end) Dx(1) 1.e-8 10]);\n",
    "xlabel('$\\Delta x$','Interpret','latex','FontSize',12); \n",
    "ylabel('$|\\epsilon\\|$','Interpret','latex','FontSize',12);\n",
    "\n",
    "grid 'on'\n",
    "legend('max(e)','rms(e)','Location','Best')"
   ]
  },
  {
   "cell_type": "markdown",
   "metadata": {},
   "source": [
    "Figure 2. Truncation error as a function of the number of grid cell N (left panel), and as a function of the grid spacing $\\Delta x$ (right panel). "
   ]
  },
  {
   "cell_type": "markdown",
   "metadata": {},
   "source": [
    "\n",
    "\n"
   ]
  },
  {
   "cell_type": "markdown",
   "metadata": {},
   "source": [
    "As we can see in Figure 2, the maximum error and the RMS error decrease as expected. Therefore, our Finite Difference Approximation (FDA) is consistent and the solution converges to the exact form of $u_{x}$ (see Figure 3). "
   ]
  },
  {
   "cell_type": "code",
   "execution_count": 15,
   "metadata": {
    "collapsed": false
   },
   "outputs": [
    {
     "data": {
      "image/png": "[encoded data removed]",
      "text/plain": [
       "<IPython.core.display.Image object>"
      ]
     },
     "metadata": {},
     "output_type": "display_data"
    }
   ],
   "source": [
    "% plotting ux_n against the exact expression of ux\n",
    "figure(3)\n",
    "plot(xe,ux_n,'b',xe,ux,'k--','linewidth',2.0)\n",
    "legend('exact u_x','numerical u_x')\n",
    "\n",
    "grid 'on'"
   ]
  },
  {
   "cell_type": "markdown",
   "metadata": {},
   "source": [
    "Figure 3. Comparison between the exact expression of $u_{x}$ and the numerical differentiation. "
   ]
  },
  {
   "cell_type": "markdown",
   "metadata": {},
   "source": [
    "\n"
   ]
  },
  {
   "cell_type": "markdown",
   "metadata": {},
   "source": [
    "\n"
   ]
  },
  {
   "cell_type": "markdown",
   "metadata": {},
   "source": [
    "In order to be more quantitative, lets study the slope of the RMS($\\epsilon$) against $\\Delta x$. Therefore lets performe a linear fitting of the red curve in the right panel of Figure 2. \n",
    "\n",
    "Theoretical linear model: \n",
    "\n",
    "$$RMS(\\epsilon) = A \\Delta x^{5}$$\n",
    "    \n",
    "or \n",
    "    \n",
    "$$ln[RMS(\\epsilon)] = 5 ln(\\Delta x) + ln(A)$$    \n",
    "\n"
   ]
  },
  {
   "cell_type": "code",
   "execution_count": 17,
   "metadata": {
    "collapsed": false
   },
   "outputs": [
    {
     "name": "stdout",
     "output_type": "stream",
     "text": [
      " added to session magics.\n",
      "\n",
      "[output]\n",
      "Slope: 3.0015\n"
     ]
    }
   ],
   "source": [
    "%%% Linear fitting \n",
    "\n",
    "[slope,lnA] = polyfit(log(Dx), log(err_rms), 1);\n",
    "\n",
    "disp('[output]')\n",
    "disp(['Slope: ', num2str(slope(1))])"
   ]
  },
  {
   "cell_type": "markdown",
   "metadata": {},
   "source": [
    "Note the slope is approximately 3 instead of 5. However we should keep in mind that for very small $\\Delta x$ (i. e., $\\Delta x \\le 10^{-2}$) the solution tends to change less than when $\\Delta x \\ge 10^{-2}$ (see Figure 2), so the slope is reasonable considering the order of magnitude of the rms errors."
   ]
  },
  {
   "cell_type": "markdown",
   "metadata": {},
   "source": [
    "\n",
    "\n",
    "\n"
   ]
  },
  {
   "cell_type": "markdown",
   "metadata": {},
   "source": [
    "\n",
    "\n",
    "\n"
   ]
  },
  {
   "cell_type": "markdown",
   "metadata": {},
   "source": [
    "\n",
    "\n",
    "\n"
   ]
  },
  {
   "cell_type": "markdown",
   "metadata": {},
   "source": [
    "\n",
    "\n",
    "\n"
   ]
  },
  {
   "cell_type": "markdown",
   "metadata": {},
   "source": [
    "## 4 Drifter Velocity Calculations\n",
    "\n",
    "Lets derive the meridional (u) and zonal (v) velocities of drifters from the GLAD experiment. The latitudes $\\theta$ and longitude $\\lambda$ time series can be converted to u and v by applying: \n",
    "\n",
    "$$u = R cos(\\theta) \\frac{\\partial \\lambda}{\\partial t}$$\n",
    "\n",
    "and \n",
    "\n",
    "$$u = R \\frac{\\partial \\theta}{\\partial t}$$\n",
    "\n",
    "where R is the Earth's radius."
   ]
  },
  {
   "cell_type": "code",
   "execution_count": 18,
   "metadata": {
    "collapsed": false
   },
   "outputs": [
    {
     "name": "stdout",
     "output_type": "stream",
     "text": [
      "[output]\n",
      "grid spacing sample\n",
      "    '2012-07-20'    '11:00:00.126717'\n",
      "    '2012-07-20'    '11:15:00.129600'\n",
      "    '2012-07-20'    '11:30:00.132474'\n",
      "    '2012-07-20'    '11:45:00.135357'\n",
      "    '2012-07-20'    '12:00:00.138241'\n",
      "    '2012-07-20'    '12:15:00.141114'\n",
      "    '2012-07-20'    '12:30:00.143997'\n",
      "    '2012-07-20'    '12:45:00.146881'\n",
      "    '2012-07-20'    '13:00:00.149754'\n",
      "    '2012-07-20'    '13:15:00.152637'\n"
     ]
    }
   ],
   "source": [
    "% Clear data \n",
    "clear all \n",
    "\n",
    "% Loading the data from GLAD experiment\n",
    "[date,hour,lat,lon] = textread('CARTHE_007.dat','%s%s%f%f','headerlines',0);\n",
    "\n",
    "\n",
    "% As we can see from the data file the data is spaced\n",
    "% in approximatelly 15 min\n",
    "disp('[output]')\n",
    "disp('grid spacing sample')\n",
    "disp([date(1:10),hour(1:10)])\n",
    "\n",
    "\n",
    "% grid spacing in s\n",
    "dt = 15.0*60.0;\n",
    "\n",
    "\n",
    "% Earth's radius (m) \n",
    "R = 6371000.0;"
   ]
  },
  {
   "cell_type": "markdown",
   "metadata": {},
   "source": [
    "##### The dataset"
   ]
  },
  {
   "cell_type": "code",
   "execution_count": 19,
   "metadata": {
    "collapsed": false
   },
   "outputs": [
    {
     "data": {
      "image/png": "[encoded data removed]",
      "text/plain": [
       "<IPython.core.display.Image object>"
      ]
     },
     "metadata": {},
     "output_type": "display_data"
    }
   ],
   "source": [
    "figure(4)\n",
    "plot(lon,lat)\n",
    "hold 'on'\n",
    "plot(lon([1 2500 5000 length(lon)]),lat([1 2500 5000 length(lon)]),'k.')\n",
    "text(lon([1 2500 5000 length(lon)]),lat([1 2500 5000 length(lon)]),{'t_1','t_{2500}','t_{5000}','t_{final}'})\n",
    "\n",
    "xlabel('Longitude','fontsize',15)\n",
    "ylabel('Latitude','fontsize',15)"
   ]
  },
  {
   "cell_type": "markdown",
   "metadata": {},
   "source": [
    "Figure 4. Tractory of a drifter from the GLAD experiment. The black dots pinpoint different instants (t1, t2500, t5000,tfinal) of the time series.\n",
    "\n",
    "##### Velocity estimates\n",
    "\n",
    "In order to estimate $\\frac{\\partial \\lambda}{\\partial t}$ and $\\frac{\\partial \\theta}{\\partial t}$ we used the functions cd2.m and cd4.m to estimate the 2nd and 4th order centered difference respectively. Here we will not deal with the derivatives close to the limits of the time series."
   ]
  },
  {
   "cell_type": "code",
   "execution_count": 20,
   "metadata": {
    "collapsed": false
   },
   "outputs": [],
   "source": [
    "% Converting lat and lon in degrees to radians\n",
    "lonr  = lon*pi/(180.0);\n",
    "latr = lat*pi/(180.0);\n",
    "\n",
    "\n",
    "% Second order derivatives\n",
    "dlon2 = cd2(lonr,dt,0); dlon2([1 2 length(lonr)-1 length(lonr)]) = NaN;\n",
    "dlat2 = cd2(latr,dt,0); dlat2([1 2 length(lonr)-1 length(lonr)]) = NaN;\n",
    "\n",
    "\n",
    "% Fourth order derivatives\n",
    "dlon4 = cd4(lonr,dt,0); dlon4([1 2 length(lonr)-1 length(lonr)]) = NaN;\n",
    "dlat4 = cd4(latr,dt,0); dlat4([1 2 length(lonr)-1 length(lonr)]) = NaN;\n",
    "\n",
    "\n",
    "% Computing the velocity components \n",
    "u2 = R .* cos(latr') .* dlon2;\n",
    "v2 = R .* dlat2;\n",
    "\n",
    "u4 = R .* cos(latr') .* dlon4;\n",
    "v4 = R .* dlat4;\n"
   ]
  },
  {
   "cell_type": "markdown",
   "metadata": {},
   "source": [
    "##### (u,v) evolution"
   ]
  },
  {
   "cell_type": "code",
   "execution_count": 21,
   "metadata": {
    "collapsed": false
   },
   "outputs": [
    {
     "data": {
      "image/png": "[encoded data removed]",
      "text/plain": [
       "<IPython.core.display.Image object>"
      ]
     },
     "metadata": {},
     "output_type": "display_data"
    }
   ],
   "source": [
    "% Functions u and v\n",
    "figure(5)\n",
    "plot(u2,'k');\n",
    "hold 'on'\n",
    "plot(v2,'g--');\n",
    "\n",
    "plot(u4,'b');\n",
    "plot(v4,'r--');\n",
    "\n",
    "xlabel('Time instant (ti)');\n",
    "ylabel('Velocity components in m s^{-1}');\n",
    "\n",
    "\n",
    "grid 'on'\n",
    "legend('2nd order FDA  - u','2nd order FDA  - v','4th order FDA  - u','v order FDA  - v','Location','Best')\n"
   ]
  },
  {
   "cell_type": "markdown",
   "metadata": {},
   "source": [
    "Figure 5. Evolution of u and v using different FDA stencils. \n",
    "\n",
    "\n",
    "##### Difference between stencils\n",
    "\n",
    "From Figure 5 both estimates seem to be in agreement. Therefore, to be more quantitative we need a measure of this difference (i. e., $||\\epsilon||$): \n",
    "\n",
    "\n",
    "$$\n",
    "||\\epsilon||^{2} = \\frac{1}{N-4} \\sum\\limits_{i=3}^{N-2} [(u_{i}^{(2nd)} - u_{i}^{(4th)})^{2} + (v_{i}^{(2nd)} - v_{i}^{(4th)})^{2}]\n",
    "$$"
   ]
  },
  {
   "cell_type": "code",
   "execution_count": 22,
   "metadata": {
    "collapsed": false
   },
   "outputs": [
    {
     "name": "stdout",
     "output_type": "stream",
     "text": [
      "[output]\n",
      "epsilon = 0.00082773 m/s\n"
     ]
    }
   ],
   "source": [
    "% Root mean square of the differences:\n",
    "diffu = (u2-u4).^2;\n",
    "diffv = (v2-v4).^2;\n",
    " \n",
    "epsilon = sqrt(nansum(diffu+diffv)/(length(lon)-4));\n",
    " \n",
    "\n",
    "disp('[output]')\n",
    "disp(['epsilon = ',num2str(epsilon),' m/s'])"
   ]
  },
  {
   "cell_type": "markdown",
   "metadata": {},
   "source": [
    "\n",
    "As expected, both stencils produced estimates with RMS differences of at least 2 orders of magnitude smaller than the estimates itself (see Figure 5). Therefore its seems they are in agreement and the differences are very small. "
   ]
  }
 ],
 "metadata": {
  "anaconda-cloud": {},
  "kernelspec": {
   "display_name": "Matlab",
   "language": "matlab",
   "name": "matlab"
  },
  "language_info": {
   "codemirror_mode": "octave",
   "file_extension": ".m",
   "help_links": [
    {
     "text": "MetaKernel Magics",
     "url": "https://github.com/calysto/metakernel/blob/master/metakernel/magics/README.md"
    }
   ],
   "mimetype": "text/x-octave",
   "name": "matlab",
   "version": "0.11.0"
  }
 },
 "nbformat": 4,
 "nbformat_minor": 0
}
